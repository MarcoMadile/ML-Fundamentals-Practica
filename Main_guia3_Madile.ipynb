{
 "cells": [
  {
   "cell_type": "markdown",
   "metadata": {},
   "source": [
    "# Guia 3, Marco Madile Hjelt\n",
    "### 12/9/2022\n",
    "Trabajo para la materia de **ML Fundamentals** del **Instituto Balseiro**."
   ]
  },
  {
   "cell_type": "code",
   "execution_count": 1,
   "metadata": {},
   "outputs": [
    {
     "name": "stderr",
     "output_type": "stream",
     "text": [
      "c:\\Users\\marco\\.conda\\envs\\ML_env_Madile\\lib\\site-packages\\xgboost\\compat.py:36: FutureWarning: pandas.Int64Index is deprecated and will be removed from pandas in a future version. Use pandas.Index with the appropriate dtype instead.\n",
      "  from pandas import MultiIndex, Int64Index\n"
     ]
    }
   ],
   "source": [
    "import pandas as pd \n",
    "import numpy as np\n",
    "from pandas.plotting import scatter_matrix\n",
    "import matplotlib.pyplot as plt\n",
    "#import scikkit learn \n",
    "from sklearn.model_selection import train_test_split\n",
    "from sklearn.ensemble import RandomForestClassifier\n",
    "from sklearn.metrics import classification_report\n",
    "from sklearn.model_selection import cross_validate\n",
    "from sklearn.model_selection import GridSearchCV\n",
    "import pickle\n",
    "from sklearn.tree import export_graphviz\n",
    "from sklearn import tree\n",
    "import glob\n",
    "from sklearn.metrics import recall_score\n",
    "import xgboost as xgb\n",
    "from sklearn.metrics import precision_score"
   ]
  },
  {
   "cell_type": "markdown",
   "metadata": {},
   "source": [
    "## Exploratoy data analysis"
   ]
  },
  {
   "cell_type": "markdown",
   "metadata": {},
   "source": [
    "Miro con que columnas estoy tratando: \n",
    "df.head() imprime las primeros 5 filas del dataframe"
   ]
  },
  {
   "cell_type": "code",
   "execution_count": 2,
   "metadata": {},
   "outputs": [
    {
     "data": {
      "text/html": [
       "<div>\n",
       "<style scoped>\n",
       "    .dataframe tbody tr th:only-of-type {\n",
       "        vertical-align: middle;\n",
       "    }\n",
       "\n",
       "    .dataframe tbody tr th {\n",
       "        vertical-align: top;\n",
       "    }\n",
       "\n",
       "    .dataframe thead th {\n",
       "        text-align: right;\n",
       "    }\n",
       "</style>\n",
       "<table border=\"1\" class=\"dataframe\">\n",
       "  <thead>\n",
       "    <tr style=\"text-align: right;\">\n",
       "      <th></th>\n",
       "      <th>altura</th>\n",
       "      <th>exposicion</th>\n",
       "      <th>inclinacion_suelo</th>\n",
       "      <th>distancia_agua</th>\n",
       "      <th>altura_agua</th>\n",
       "      <th>distancia_caminos</th>\n",
       "      <th>sombra_maniana</th>\n",
       "      <th>sombra_mediodia</th>\n",
       "      <th>sombra_tarde</th>\n",
       "      <th>distancia_fuego</th>\n",
       "      <th>clase_area_silvestre</th>\n",
       "      <th>clase_suelo</th>\n",
       "      <th>dosel_forestal</th>\n",
       "    </tr>\n",
       "  </thead>\n",
       "  <tbody>\n",
       "    <tr>\n",
       "      <th>0</th>\n",
       "      <td>2596</td>\n",
       "      <td>51</td>\n",
       "      <td>3</td>\n",
       "      <td>258</td>\n",
       "      <td>0</td>\n",
       "      <td>510</td>\n",
       "      <td>221</td>\n",
       "      <td>232</td>\n",
       "      <td>148</td>\n",
       "      <td>6279</td>\n",
       "      <td>1</td>\n",
       "      <td>29</td>\n",
       "      <td>5</td>\n",
       "    </tr>\n",
       "    <tr>\n",
       "      <th>1</th>\n",
       "      <td>2804</td>\n",
       "      <td>139</td>\n",
       "      <td>9</td>\n",
       "      <td>268</td>\n",
       "      <td>65</td>\n",
       "      <td>3180</td>\n",
       "      <td>234</td>\n",
       "      <td>238</td>\n",
       "      <td>135</td>\n",
       "      <td>6121</td>\n",
       "      <td>1</td>\n",
       "      <td>12</td>\n",
       "      <td>2</td>\n",
       "    </tr>\n",
       "    <tr>\n",
       "      <th>2</th>\n",
       "      <td>2785</td>\n",
       "      <td>155</td>\n",
       "      <td>18</td>\n",
       "      <td>242</td>\n",
       "      <td>118</td>\n",
       "      <td>3090</td>\n",
       "      <td>238</td>\n",
       "      <td>238</td>\n",
       "      <td>122</td>\n",
       "      <td>6211</td>\n",
       "      <td>1</td>\n",
       "      <td>30</td>\n",
       "      <td>2</td>\n",
       "    </tr>\n",
       "    <tr>\n",
       "      <th>3</th>\n",
       "      <td>2595</td>\n",
       "      <td>45</td>\n",
       "      <td>2</td>\n",
       "      <td>153</td>\n",
       "      <td>-1</td>\n",
       "      <td>391</td>\n",
       "      <td>220</td>\n",
       "      <td>234</td>\n",
       "      <td>150</td>\n",
       "      <td>6172</td>\n",
       "      <td>1</td>\n",
       "      <td>29</td>\n",
       "      <td>5</td>\n",
       "    </tr>\n",
       "    <tr>\n",
       "      <th>4</th>\n",
       "      <td>2579</td>\n",
       "      <td>132</td>\n",
       "      <td>6</td>\n",
       "      <td>300</td>\n",
       "      <td>-15</td>\n",
       "      <td>67</td>\n",
       "      <td>230</td>\n",
       "      <td>237</td>\n",
       "      <td>140</td>\n",
       "      <td>6031</td>\n",
       "      <td>1</td>\n",
       "      <td>29</td>\n",
       "      <td>2</td>\n",
       "    </tr>\n",
       "  </tbody>\n",
       "</table>\n",
       "</div>"
      ],
      "text/plain": [
       "   altura  exposicion  inclinacion_suelo  distancia_agua  altura_agua  \\\n",
       "0    2596          51                  3             258            0   \n",
       "1    2804         139                  9             268           65   \n",
       "2    2785         155                 18             242          118   \n",
       "3    2595          45                  2             153           -1   \n",
       "4    2579         132                  6             300          -15   \n",
       "\n",
       "   distancia_caminos  sombra_maniana  sombra_mediodia  sombra_tarde  \\\n",
       "0                510             221              232           148   \n",
       "1               3180             234              238           135   \n",
       "2               3090             238              238           122   \n",
       "3                391             220              234           150   \n",
       "4                 67             230              237           140   \n",
       "\n",
       "   distancia_fuego  clase_area_silvestre  clase_suelo  dosel_forestal  \n",
       "0             6279                     1           29               5  \n",
       "1             6121                     1           12               2  \n",
       "2             6211                     1           30               2  \n",
       "3             6172                     1           29               5  \n",
       "4             6031                     1           29               2  "
      ]
     },
     "execution_count": 2,
     "metadata": {},
     "output_type": "execute_result"
    }
   ],
   "source": [
    "df= pd.read_csv(\"data\\\\train_r1.csv\")\n",
    "df.head()"
   ]
  },
  {
   "cell_type": "markdown",
   "metadata": {},
   "source": [
    "Miro el tipo de datos que tengo en cada columna:"
   ]
  },
  {
   "cell_type": "code",
   "execution_count": 74,
   "metadata": {},
   "outputs": [
    {
     "name": "stdout",
     "output_type": "stream",
     "text": [
      "<class 'pandas.core.frame.DataFrame'>\n",
      "RangeIndex: 464810 entries, 0 to 464809\n",
      "Data columns (total 13 columns):\n",
      " #   Column                Non-Null Count   Dtype\n",
      "---  ------                --------------   -----\n",
      " 0   altura                464810 non-null  int64\n",
      " 1   exposicion            464810 non-null  int64\n",
      " 2   inclinacion_suelo     464810 non-null  int64\n",
      " 3   distancia_agua        464810 non-null  int64\n",
      " 4   altura_agua           464810 non-null  int64\n",
      " 5   distancia_caminos     464810 non-null  int64\n",
      " 6   sombra_maniana        464810 non-null  int64\n",
      " 7   sombra_mediodia       464810 non-null  int64\n",
      " 8   sombra_tarde          464810 non-null  int64\n",
      " 9   distancia_fuego       464810 non-null  int64\n",
      " 10  clase_area_silvestre  464810 non-null  int64\n",
      " 11  clase_suelo           464810 non-null  int64\n",
      " 12  dosel_forestal        464810 non-null  int64\n",
      "dtypes: int64(13)\n",
      "memory usage: 46.1 MB\n"
     ]
    }
   ],
   "source": [
    "df.info()"
   ]
  },
  {
   "cell_type": "code",
   "execution_count": 75,
   "metadata": {},
   "outputs": [
    {
     "data": {
      "text/html": [
       "<div>\n",
       "<style scoped>\n",
       "    .dataframe tbody tr th:only-of-type {\n",
       "        vertical-align: middle;\n",
       "    }\n",
       "\n",
       "    .dataframe tbody tr th {\n",
       "        vertical-align: top;\n",
       "    }\n",
       "\n",
       "    .dataframe thead th {\n",
       "        text-align: right;\n",
       "    }\n",
       "</style>\n",
       "<table border=\"1\" class=\"dataframe\">\n",
       "  <thead>\n",
       "    <tr style=\"text-align: right;\">\n",
       "      <th></th>\n",
       "      <th>altura</th>\n",
       "      <th>exposicion</th>\n",
       "      <th>inclinacion_suelo</th>\n",
       "      <th>distancia_agua</th>\n",
       "      <th>altura_agua</th>\n",
       "      <th>distancia_caminos</th>\n",
       "      <th>sombra_maniana</th>\n",
       "      <th>sombra_mediodia</th>\n",
       "      <th>sombra_tarde</th>\n",
       "      <th>distancia_fuego</th>\n",
       "      <th>clase_area_silvestre</th>\n",
       "      <th>clase_suelo</th>\n",
       "      <th>dosel_forestal</th>\n",
       "    </tr>\n",
       "  </thead>\n",
       "  <tbody>\n",
       "    <tr>\n",
       "      <th>count</th>\n",
       "      <td>464810.000000</td>\n",
       "      <td>464810.000000</td>\n",
       "      <td>464810.000000</td>\n",
       "      <td>464810.000000</td>\n",
       "      <td>464810.000000</td>\n",
       "      <td>464810.000000</td>\n",
       "      <td>464810.000000</td>\n",
       "      <td>464810.000000</td>\n",
       "      <td>464810.000000</td>\n",
       "      <td>464810.000000</td>\n",
       "      <td>464810.000000</td>\n",
       "      <td>464810.000000</td>\n",
       "      <td>464810.000000</td>\n",
       "    </tr>\n",
       "    <tr>\n",
       "      <th>mean</th>\n",
       "      <td>2959.048884</td>\n",
       "      <td>155.433347</td>\n",
       "      <td>14.109036</td>\n",
       "      <td>269.397821</td>\n",
       "      <td>46.398492</td>\n",
       "      <td>2348.805527</td>\n",
       "      <td>212.156376</td>\n",
       "      <td>223.278200</td>\n",
       "      <td>142.472389</td>\n",
       "      <td>1981.179764</td>\n",
       "      <td>2.114387</td>\n",
       "      <td>24.349863</td>\n",
       "      <td>2.052622</td>\n",
       "    </tr>\n",
       "    <tr>\n",
       "      <th>std</th>\n",
       "      <td>280.204280</td>\n",
       "      <td>111.977443</td>\n",
       "      <td>7.485498</td>\n",
       "      <td>212.467759</td>\n",
       "      <td>58.231377</td>\n",
       "      <td>1559.446137</td>\n",
       "      <td>26.758641</td>\n",
       "      <td>19.768258</td>\n",
       "      <td>38.265583</td>\n",
       "      <td>1324.850716</td>\n",
       "      <td>1.061534</td>\n",
       "      <td>9.490270</td>\n",
       "      <td>1.397742</td>\n",
       "    </tr>\n",
       "    <tr>\n",
       "      <th>min</th>\n",
       "      <td>1859.000000</td>\n",
       "      <td>0.000000</td>\n",
       "      <td>0.000000</td>\n",
       "      <td>0.000000</td>\n",
       "      <td>-173.000000</td>\n",
       "      <td>0.000000</td>\n",
       "      <td>0.000000</td>\n",
       "      <td>0.000000</td>\n",
       "      <td>0.000000</td>\n",
       "      <td>0.000000</td>\n",
       "      <td>1.000000</td>\n",
       "      <td>1.000000</td>\n",
       "      <td>1.000000</td>\n",
       "    </tr>\n",
       "    <tr>\n",
       "      <th>25%</th>\n",
       "      <td>2809.000000</td>\n",
       "      <td>58.000000</td>\n",
       "      <td>9.000000</td>\n",
       "      <td>108.000000</td>\n",
       "      <td>7.000000</td>\n",
       "      <td>1103.000000</td>\n",
       "      <td>198.000000</td>\n",
       "      <td>213.000000</td>\n",
       "      <td>119.000000</td>\n",
       "      <td>1024.000000</td>\n",
       "      <td>1.000000</td>\n",
       "      <td>20.000000</td>\n",
       "      <td>1.000000</td>\n",
       "    </tr>\n",
       "    <tr>\n",
       "      <th>50%</th>\n",
       "      <td>2995.000000</td>\n",
       "      <td>127.000000</td>\n",
       "      <td>13.000000</td>\n",
       "      <td>218.000000</td>\n",
       "      <td>30.000000</td>\n",
       "      <td>1994.000000</td>\n",
       "      <td>218.000000</td>\n",
       "      <td>226.000000</td>\n",
       "      <td>143.000000</td>\n",
       "      <td>1710.000000</td>\n",
       "      <td>2.000000</td>\n",
       "      <td>29.000000</td>\n",
       "      <td>2.000000</td>\n",
       "    </tr>\n",
       "    <tr>\n",
       "      <th>75%</th>\n",
       "      <td>3163.000000</td>\n",
       "      <td>260.000000</td>\n",
       "      <td>18.000000</td>\n",
       "      <td>390.000000</td>\n",
       "      <td>69.000000</td>\n",
       "      <td>3328.000000</td>\n",
       "      <td>231.000000</td>\n",
       "      <td>237.000000</td>\n",
       "      <td>168.000000</td>\n",
       "      <td>2550.000000</td>\n",
       "      <td>3.000000</td>\n",
       "      <td>31.000000</td>\n",
       "      <td>2.000000</td>\n",
       "    </tr>\n",
       "    <tr>\n",
       "      <th>max</th>\n",
       "      <td>3858.000000</td>\n",
       "      <td>360.000000</td>\n",
       "      <td>66.000000</td>\n",
       "      <td>1397.000000</td>\n",
       "      <td>598.000000</td>\n",
       "      <td>7117.000000</td>\n",
       "      <td>254.000000</td>\n",
       "      <td>254.000000</td>\n",
       "      <td>254.000000</td>\n",
       "      <td>7173.000000</td>\n",
       "      <td>4.000000</td>\n",
       "      <td>40.000000</td>\n",
       "      <td>7.000000</td>\n",
       "    </tr>\n",
       "  </tbody>\n",
       "</table>\n",
       "</div>"
      ],
      "text/plain": [
       "              altura     exposicion  inclinacion_suelo  distancia_agua  \\\n",
       "count  464810.000000  464810.000000      464810.000000   464810.000000   \n",
       "mean     2959.048884     155.433347          14.109036      269.397821   \n",
       "std       280.204280     111.977443           7.485498      212.467759   \n",
       "min      1859.000000       0.000000           0.000000        0.000000   \n",
       "25%      2809.000000      58.000000           9.000000      108.000000   \n",
       "50%      2995.000000     127.000000          13.000000      218.000000   \n",
       "75%      3163.000000     260.000000          18.000000      390.000000   \n",
       "max      3858.000000     360.000000          66.000000     1397.000000   \n",
       "\n",
       "         altura_agua  distancia_caminos  sombra_maniana  sombra_mediodia  \\\n",
       "count  464810.000000      464810.000000   464810.000000    464810.000000   \n",
       "mean       46.398492        2348.805527      212.156376       223.278200   \n",
       "std        58.231377        1559.446137       26.758641        19.768258   \n",
       "min      -173.000000           0.000000        0.000000         0.000000   \n",
       "25%         7.000000        1103.000000      198.000000       213.000000   \n",
       "50%        30.000000        1994.000000      218.000000       226.000000   \n",
       "75%        69.000000        3328.000000      231.000000       237.000000   \n",
       "max       598.000000        7117.000000      254.000000       254.000000   \n",
       "\n",
       "        sombra_tarde  distancia_fuego  clase_area_silvestre    clase_suelo  \\\n",
       "count  464810.000000    464810.000000         464810.000000  464810.000000   \n",
       "mean      142.472389      1981.179764              2.114387      24.349863   \n",
       "std        38.265583      1324.850716              1.061534       9.490270   \n",
       "min         0.000000         0.000000              1.000000       1.000000   \n",
       "25%       119.000000      1024.000000              1.000000      20.000000   \n",
       "50%       143.000000      1710.000000              2.000000      29.000000   \n",
       "75%       168.000000      2550.000000              3.000000      31.000000   \n",
       "max       254.000000      7173.000000              4.000000      40.000000   \n",
       "\n",
       "       dosel_forestal  \n",
       "count   464810.000000  \n",
       "mean         2.052622  \n",
       "std          1.397742  \n",
       "min          1.000000  \n",
       "25%          1.000000  \n",
       "50%          2.000000  \n",
       "75%          2.000000  \n",
       "max          7.000000  "
      ]
     },
     "execution_count": 75,
     "metadata": {},
     "output_type": "execute_result"
    }
   ],
   "source": [
    "df.describe()"
   ]
  },
  {
   "cell_type": "markdown",
   "metadata": {},
   "source": [
    "¿Hay valores nulos dentro de las columnas?"
   ]
  },
  {
   "cell_type": "code",
   "execution_count": 76,
   "metadata": {},
   "outputs": [
    {
     "data": {
      "text/plain": [
       "altura                  False\n",
       "exposicion              False\n",
       "inclinacion_suelo       False\n",
       "distancia_agua          False\n",
       "altura_agua             False\n",
       "distancia_caminos       False\n",
       "sombra_maniana          False\n",
       "sombra_mediodia         False\n",
       "sombra_tarde            False\n",
       "distancia_fuego         False\n",
       "clase_area_silvestre    False\n",
       "clase_suelo             False\n",
       "dosel_forestal          False\n",
       "dtype: bool"
      ]
     },
     "execution_count": 76,
     "metadata": {},
     "output_type": "execute_result"
    }
   ],
   "source": [
    "#check if any of the columns have nans \n",
    "df.isnull().any()"
   ]
  },
  {
   "cell_type": "markdown",
   "metadata": {},
   "source": [
    "¿Que tan correlacionados linealmente estan con la columna \"dosel_forestal\" (target)?"
   ]
  },
  {
   "cell_type": "code",
   "execution_count": 77,
   "metadata": {},
   "outputs": [
    {
     "data": {
      "text/plain": [
       "dosel_forestal          1.000000\n",
       "clase_area_silvestre    0.276909\n",
       "inclinacion_suelo       0.148451\n",
       "altura_agua             0.081711\n",
       "exposicion              0.017143\n",
       "distancia_agua         -0.020678\n",
       "sombra_maniana         -0.035150\n",
       "sombra_tarde           -0.048613\n",
       "sombra_mediodia        -0.096597\n",
       "distancia_fuego        -0.109580\n",
       "distancia_caminos      -0.153914\n",
       "clase_suelo            -0.165211\n",
       "altura                 -0.270322\n",
       "Name: dosel_forestal, dtype: float64"
      ]
     },
     "execution_count": 77,
     "metadata": {},
     "output_type": "execute_result"
    }
   ],
   "source": [
    "#get correlation matrix with dosel_forestal column\n",
    "corr_matrix= df.corr()\n",
    "corr_matrix[\"dosel_forestal\"].sort_values(ascending=False)\n"
   ]
  },
  {
   "cell_type": "markdown",
   "metadata": {},
   "source": [
    "Distribucion de feautures y target"
   ]
  },
  {
   "cell_type": "code",
   "execution_count": 78,
   "metadata": {},
   "outputs": [
    {
     "data": {
      "text/plain": [
       "array([[<AxesSubplot:title={'center':'altura'}>,\n",
       "        <AxesSubplot:title={'center':'exposicion'}>,\n",
       "        <AxesSubplot:title={'center':'inclinacion_suelo'}>,\n",
       "        <AxesSubplot:title={'center':'distancia_agua'}>],\n",
       "       [<AxesSubplot:title={'center':'altura_agua'}>,\n",
       "        <AxesSubplot:title={'center':'distancia_caminos'}>,\n",
       "        <AxesSubplot:title={'center':'sombra_maniana'}>,\n",
       "        <AxesSubplot:title={'center':'sombra_mediodia'}>],\n",
       "       [<AxesSubplot:title={'center':'sombra_tarde'}>,\n",
       "        <AxesSubplot:title={'center':'distancia_fuego'}>,\n",
       "        <AxesSubplot:title={'center':'clase_area_silvestre'}>,\n",
       "        <AxesSubplot:title={'center':'clase_suelo'}>],\n",
       "       [<AxesSubplot:title={'center':'dosel_forestal'}>, <AxesSubplot:>,\n",
       "        <AxesSubplot:>, <AxesSubplot:>]], dtype=object)"
      ]
     },
     "execution_count": 78,
     "metadata": {},
     "output_type": "execute_result"
    },
    {
     "data": {
      "image/png": "[encoded data removed]",
      "text/plain": [
       "<Figure size 1440x1080 with 16 Axes>"
      ]
     },
     "metadata": {
      "needs_background": "light"
     },
     "output_type": "display_data"
    }
   ],
   "source": [
    "df.hist(bins=50, figsize=(20,15))"
   ]
  },
  {
   "cell_type": "markdown",
   "metadata": {},
   "source": [
    "## Feature engineering "
   ]
  },
  {
   "cell_type": "markdown",
   "metadata": {},
   "source": [
    "Antes de empezar a jugar con los datos, voy a quedarme con un dataframe que no haya sido tocado para comparar en un futuro si estuve bien en realizar los cambios."
   ]
  },
  {
   "cell_type": "code",
   "execution_count": 27,
   "metadata": {},
   "outputs": [],
   "source": [
    "df0=df.copy()"
   ]
  },
  {
   "cell_type": "markdown",
   "metadata": {},
   "source": [
    "### Sombra total"
   ]
  },
  {
   "cell_type": "markdown",
   "metadata": {},
   "source": [
    "Primera idea: sombra total, me imagino que a un arbol le importa la cantidad de luz que recibe en todo su dia y no importa sea en mañana tarde o mediodia. "
   ]
  },
  {
   "cell_type": "code",
   "execution_count": 51,
   "metadata": {},
   "outputs": [
    {
     "data": {
      "text/plain": [
       "dosel_forestal          1.000000\n",
       "clase_area_silvestre    0.276909\n",
       "inclinacion_suelo       0.148451\n",
       "altura_agua             0.081711\n",
       "exposicion              0.017143\n",
       "distancia_agua         -0.020678\n",
       "sombra_maniana         -0.035150\n",
       "sombra_tarde           -0.048613\n",
       "sombra_mediodia        -0.096597\n",
       "sombra_total           -0.108519\n",
       "distancia_fuego        -0.109580\n",
       "distancia_caminos      -0.153914\n",
       "clase_suelo            -0.165211\n",
       "altura                 -0.270322\n",
       "Name: dosel_forestal, dtype: float64"
      ]
     },
     "execution_count": 51,
     "metadata": {},
     "output_type": "execute_result"
    }
   ],
   "source": [
    "df[\"sombra_total\"]= (df[\"sombra_maniana\"]+df[\"sombra_tarde\"]+df[\"sombra_mediodia\"])\n",
    "corr_matrix= df.corr()\n",
    "corr_matrix[\"dosel_forestal\"].sort_values(ascending=False)"
   ]
  },
  {
   "cell_type": "markdown",
   "metadata": {},
   "source": [
    "Como la matriz de correlacion solo me dice que tan correlacionados linealmente estan voy a hacer un scatter plot para ver si hay alguna relacion no lineal entre atributos "
   ]
  },
  {
   "cell_type": "code",
   "execution_count": 5,
   "metadata": {},
   "outputs": [],
   "source": [
    "%matplotlib qt \n",
    "attributes= [ \"sombra_maniana\", \"sombra_tarde\",\"sombra_mediodia\",\"sombra_total\",\"dosel_forestal\"]\n",
    "scatter_matrix(df[attributes], c=df[\"dosel_forestal\"], alpha=0.12)\n",
    "plt.show()"
   ]
  },
  {
   "cell_type": "markdown",
   "metadata": {},
   "source": [
    "No parece observarse mucha diferencia entre las sombras totales y las sombras de las horas del dia. Pero con el argumento que dí anteriormente y teniendo una mayor correlación la sombra total parece ser una mejor feature, entonces borrare las otras sombras."
   ]
  },
  {
   "cell_type": "code",
   "execution_count": 52,
   "metadata": {},
   "outputs": [],
   "source": [
    "df.drop([\"sombra_maniana\",\"sombra_tarde\",\"sombra_mediodia\"], axis=1, inplace=True)"
   ]
  },
  {
   "cell_type": "markdown",
   "metadata": {},
   "source": [
    "### Distancia al agua "
   ]
  },
  {
   "cell_type": "markdown",
   "metadata": {},
   "source": [
    "La distancia del agua parece ser distancia horizontal. Con este razonamiento parece util tener una nueva feature que sea la distancia real al agua como: \n",
    "\n",
    "$$D = \\sqrt{y_{agua}^{2}+x_{agua}^2}$$"
   ]
  },
  {
   "cell_type": "code",
   "execution_count": 53,
   "metadata": {},
   "outputs": [
    {
     "data": {
      "text/plain": [
       "dosel_forestal          1.000000\n",
       "clase_area_silvestre    0.276909\n",
       "inclinacion_suelo       0.148451\n",
       "altura_agua             0.081711\n",
       "exposicion              0.017143\n",
       "distancia_real_agua    -0.014612\n",
       "distancia_agua         -0.020678\n",
       "sombra_total           -0.108519\n",
       "distancia_fuego        -0.109580\n",
       "distancia_caminos      -0.153914\n",
       "clase_suelo            -0.165211\n",
       "altura                 -0.270322\n",
       "Name: dosel_forestal, dtype: float64"
      ]
     },
     "execution_count": 53,
     "metadata": {},
     "output_type": "execute_result"
    }
   ],
   "source": [
    "df[\"distancia_real_agua\"]= np.sqrt(  (df[\"altura_agua\"])**2 + df[\"distancia_agua\"]**2)\n",
    "corr_matrix= df.corr()\n",
    "corr_matrix[\"dosel_forestal\"].sort_values(ascending=False)"
   ]
  },
  {
   "cell_type": "code",
   "execution_count": 13,
   "metadata": {},
   "outputs": [
    {
     "data": {
      "image/png": "[encoded data removed]",
      "text/plain": [
       "<Figure size 1000x1000 with 3 Axes>"
      ]
     },
     "metadata": {},
     "output_type": "display_data"
    }
   ],
   "source": [
    "#plot atributos vs dosel_forestal\n",
    "\n",
    "attributes= [ \"altura_agua\",\"distancia_agua\",\"distancia_real_agua\"]\n",
    "plt.subplots(figsize=(10,10))\n",
    "for i in range(3):\n",
    "    plt.subplot(2,2,i+1)\n",
    "    plt.scatter(df[attributes[i]], df[\"dosel_forestal\"], c=df[\"dosel_forestal\"], alpha=0.012)\n",
    "    plt.xlabel(attributes[i])\n",
    "    plt.ylabel(\"dosel_forestal\")\n",
    "plt.show()"
   ]
  },
  {
   "cell_type": "code",
   "execution_count": 14,
   "metadata": {},
   "outputs": [
    {
     "data": {
      "image/png": "[encoded data removed]",
      "text/plain": [
       "<Figure size 640x480 with 7 Axes>"
      ]
     },
     "metadata": {},
     "output_type": "display_data"
    }
   ],
   "source": [
    "\n",
    "for i in range(1,8):\n",
    "    plt.subplot(4,2,i)\n",
    "    plt.hist(df[df[\"dosel_forestal\"]==i][\"distancia_real_agua\"],density=True,bins=60)\n",
    "    plt.xlabel(\"distancia_real_agua\")\n",
    "    plt.ylabel(str(i))\n",
    "plt.show()"
   ]
  },
  {
   "cell_type": "markdown",
   "metadata": {},
   "source": [
    "observando los plots y la correlación, veo que esta nueva variable no parece ser un buen predictor del tipo de dosel_forestal. \n",
    "\n",
    "Con ese razonamiento voy a tirar esta nueva variable y quedarme con las anteriores."
   ]
  },
  {
   "cell_type": "code",
   "execution_count": 15,
   "metadata": {},
   "outputs": [],
   "source": [
    "#drop column distancia_agua and altura_agua\n",
    "df.drop([\"distancia_real_agua\"], axis=1, inplace=True)"
   ]
  },
  {
   "cell_type": "markdown",
   "metadata": {},
   "source": [
    "### Distancia al fuego y a los caminos"
   ]
  },
  {
   "cell_type": "markdown",
   "metadata": {},
   "source": [
    "idea: es posible que algunos arboles que vivan demasiado tiempo y que tengan periodos de crecimiento largos no puedan vivir y reproducirse cerca de los caminos (tomando esto como algun contaminador) o de los fuegos. Tal vez probar con el minimo de la distancia al fuego y a los caminos no sea tan mala idea.  "
   ]
  },
  {
   "cell_type": "code",
   "execution_count": 16,
   "metadata": {},
   "outputs": [],
   "source": [
    "\n",
    "attributes= [ \"distancia_fuego\", \"distancia_caminos\",\"min_fuego_caminos\"]\n",
    "#get new column with the minimun value of each row of the 2 columns: distancia_fuego, distancia_caminos\n",
    "df[\"min_fuego_caminos\"]= df[[\"distancia_fuego\", \"distancia_caminos\"]].min(axis=1)\n",
    "plt.subplots(figsize=(10,10))\n",
    "for i in range(3):\n",
    "    plt.subplot(2,2,i+1)\n",
    "    plt.scatter(df[attributes[i]], df[\"dosel_forestal\"], c=df[\"dosel_forestal\"], alpha=0.12)\n",
    "    plt.xlabel(attributes[i])\n",
    "    plt.ylabel(\"dosel_forestal\")    \n",
    "plt.show()"
   ]
  },
  {
   "cell_type": "code",
   "execution_count": 17,
   "metadata": {},
   "outputs": [
    {
     "data": {
      "text/plain": [
       "dosel_forestal          1.000000\n",
       "clase_area_silvestre    0.276909\n",
       "inclinacion_suelo       0.148451\n",
       "altura_agua             0.081711\n",
       "exposicion              0.017143\n",
       "distancia_agua         -0.020678\n",
       "min_fuego_caminos      -0.082996\n",
       "sombra_total           -0.108519\n",
       "distancia_fuego        -0.109580\n",
       "distancia_caminos      -0.153914\n",
       "clase_suelo            -0.165211\n",
       "altura                 -0.270322\n",
       "Name: dosel_forestal, dtype: float64"
      ]
     },
     "execution_count": 17,
     "metadata": {},
     "output_type": "execute_result"
    }
   ],
   "source": [
    "corr_matrix= df.corr()\n",
    "corr_matrix[\"dosel_forestal\"].sort_values(ascending=False)"
   ]
  },
  {
   "cell_type": "markdown",
   "metadata": {},
   "source": [
    "Parece que no es buen indicador esta nueva feature. La voy a sacar del dataframe."
   ]
  },
  {
   "cell_type": "code",
   "execution_count": 18,
   "metadata": {},
   "outputs": [],
   "source": [
    "df.drop(\"min_fuego_caminos\", axis=1, inplace=True)"
   ]
  },
  {
   "cell_type": "markdown",
   "metadata": {},
   "source": [
    "### exposicion "
   ]
  },
  {
   "cell_type": "code",
   "execution_count": null,
   "metadata": {},
   "outputs": [
    {
     "data": {
      "image/png": "[encoded data removed]",
      "text/plain": [
       "<Figure size 432x288 with 7 Axes>"
      ]
     },
     "metadata": {
      "needs_background": "light"
     },
     "output_type": "display_data"
    }
   ],
   "source": [
    "for i in range(1,8):\n",
    "    plt.subplot(4,2,i)\n",
    "    plt.hist(df[df[\"dosel_forestal\"]==i][\"exposicion\"],density=True,bins=60)\n",
    "    plt.xlabel(\"exposicion\")\n",
    "    plt.ylabel(str(i))\n",
    "plt.show()\n"
   ]
  },
  {
   "cell_type": "markdown",
   "metadata": {},
   "source": [
    "Observando de esta manera al atributo exposicion, parece buena idea mantenerlo ya que podría servir descartar algun dosel_forestal 6 que parece tener baja probabilidad de exposicion $\\approx$ 200"
   ]
  },
  {
   "cell_type": "code",
   "execution_count": null,
   "metadata": {},
   "outputs": [
    {
     "data": {
      "text/plain": [
       "dosel_forestal\n",
       "2    226596\n",
       "1    169395\n",
       "3     28602\n",
       "7     16406\n",
       "6     13993\n",
       "5      7614\n",
       "4      2204\n",
       "dtype: int64"
      ]
     },
     "execution_count": 52,
     "metadata": {},
     "output_type": "execute_result"
    }
   ],
   "source": [
    "df.value_counts(\"dosel_forestal\")"
   ]
  },
  {
   "cell_type": "markdown",
   "metadata": {},
   "source": [
    "Mire la cantidad de datos con dosel_forestal=6 por si al ser tan pocos me daban esa distribución (sampling bias)"
   ]
  },
  {
   "cell_type": "markdown",
   "metadata": {},
   "source": [
    "## Random Forest "
   ]
  },
  {
   "cell_type": "markdown",
   "metadata": {},
   "source": [
    "### Training y test_split"
   ]
  },
  {
   "cell_type": "markdown",
   "metadata": {},
   "source": [
    "Separo en training y en test set: 80/20 respectivamente. Para ver si la eliminación de estos atributos me afecta en el score del modelo, voy a guardar tambien el dataframe sin modificar para comparar y tener una base."
   ]
  },
  {
   "cell_type": "code",
   "execution_count": 28,
   "metadata": {},
   "outputs": [],
   "source": [
    "X= df.drop(\"dosel_forestal\", axis=1)\n",
    "y= df[\"dosel_forestal\"]\n",
    "X0=df0.drop(\"dosel_forestal\", axis=1)\n",
    "y0=df0[\"dosel_forestal\"]\n",
    "X_train, X_test, y_train, y_test= train_test_split(X,y, test_size=0.2, random_state=42)\n",
    "X0_train, X0_test, y0_train, y0_test= train_test_split(X0,y0, test_size=0.2, random_state=42)"
   ]
  },
  {
   "cell_type": "markdown",
   "metadata": {},
   "source": [
    "Guardo esta separación como pickle para poder usarla en el futuro"
   ]
  },
  {
   "cell_type": "code",
   "execution_count": 20,
   "metadata": {},
   "outputs": [],
   "source": [
    "with open(\"data\\\\X_train.pickle\", \"wb\") as f:\n",
    "    pickle.dump(X_train, f)\n",
    "with open(\"data\\\\X_test.pickle\", \"wb\") as f:\n",
    "    pickle.dump(X_test, f)\n",
    "with open(\"data\\\\y_train.pickle\", \"wb\") as f:\n",
    "    pickle.dump(y_train, f)\n",
    "with open(\"data\\\\y_test.pickle\", \"wb\") as f:\n",
    "    pickle.dump(y_test, f)\n"
   ]
  },
  {
   "cell_type": "code",
   "execution_count": 29,
   "metadata": {},
   "outputs": [],
   "source": [
    "with open(\"data\\\\X0_train.pickle\", \"wb\") as f:\n",
    "    pickle.dump(X0_train, f)\n",
    "with open(\"data\\\\X0_test.pickle\", \"wb\") as f:\n",
    "    pickle.dump(X0_test, f)\n",
    "with open(\"data\\\\y0_train.pickle\", \"wb\") as f:\n",
    "    pickle.dump(y0_train, f)\n",
    "with open(\"data\\\\y0_test.pickle\", \"wb\") as f:\n",
    "    pickle.dump(y0_test, f) "
   ]
  },
  {
   "cell_type": "markdown",
   "metadata": {},
   "source": [
    "### GridSearchCV Fiteo"
   ]
  },
  {
   "cell_type": "markdown",
   "metadata": {},
   "source": [
    "Abro archivos en formato pickle"
   ]
  },
  {
   "cell_type": "code",
   "execution_count": 3,
   "metadata": {},
   "outputs": [],
   "source": [
    "#Abro los archivos con pickle\n",
    "with open(\"data\\\\X_train.pickle\", \"rb\") as f:\n",
    "    X_train= pickle.load(f)\n",
    "with open(\"data\\\\X_test.pickle\", \"rb\") as f:\n",
    "    X_test= pickle.load(f)\n",
    "with open(\"data\\\\y_train.pickle\", \"rb\") as f:\n",
    "    y_train= pickle.load(f)\n",
    "with open(\"data\\\\y_test.pickle\", \"rb\") as f:\n",
    "    y_test= pickle.load(f)\n",
    "with open(\"data\\\\X0_train.pickle\", \"rb\") as f:\n",
    "    X0_train= pickle.load(f)\n",
    "with open(\"data\\\\X0_test.pickle\", \"rb\") as f:\n",
    "    X0_test= pickle.load(f)\n",
    "with open(\"data\\\\y0_train.pickle\", \"rb\") as f:\n",
    "    y0_train= pickle.load(f)\n",
    "with open(\"data\\\\y0_test.pickle\", \"rb\") as f:\n",
    "    y0_test= pickle.load(f)\n",
    "    "
   ]
  },
  {
   "cell_type": "markdown",
   "metadata": {},
   "source": [
    "Elijo el modelo y me armo una grilla de parametros para hacer un grid search. GridSearchCV hace un cross validation con cv=3 folds.\n",
    "\n",
    "Yo ademas le estoy diciendo que use la metrica \"accuaricy\" para evaluar los modelos:\n",
    "\n",
    "$$Accuaracy = \\frac{TP + TN}{TP+TN+FP+FN}$$\n",
    "\n",
    "Siendo TP, TN, FP, FN los verdaderos positivos, verdaderos negativos, falsos positivos y falsos negativos respectivamente."
   ]
  },
  {
   "cell_type": "code",
   "execution_count": 31,
   "metadata": {},
   "outputs": [],
   "source": [
    "\n",
    "model= RandomForestClassifier()\n",
    "\n",
    "#param_grid= {\"n_estimators\": [5,10,20,30,40], \"max_depth\": [None, 1,2,3,4,5,6,7,8,9,10],\"max_feauteres\": [None, 1,2,3,4,5,6,7,8,9,10]}\n",
    "param_grid= {\"n_estimators\": [5,20,40], \"max_depth\": [None, 1,5,10],\"max_features\": [None, 1,4,8,10]}\n",
    "grid_search= GridSearchCV(model, param_grid, cv=3,n_jobs=-1, scoring=\"accuracy\")\n",
    "grid_search0= GridSearchCV(model, param_grid, cv=3,n_jobs=-1, scoring=\"accuracy\")"
   ]
  },
  {
   "cell_type": "markdown",
   "metadata": {},
   "source": [
    "fitteo el modelo con los datos de training"
   ]
  },
  {
   "cell_type": "code",
   "execution_count": 29,
   "metadata": {},
   "outputs": [
    {
     "data": {
      "text/html": [
       "<style>#sk-container-id-2 {color: black;background-color: white;}#sk-container-id-2 pre{padding: 0;}#sk-container-id-2 div.sk-toggleable {background-color: white;}#sk-container-id-2 label.sk-toggleable__label {cursor: pointer;display: block;width: 100%;margin-bottom: 0;padding: 0.3em;box-sizing: border-box;text-align: center;}#sk-container-id-2 label.sk-toggleable__label-arrow:before {content: \"▸\";float: left;margin-right: 0.25em;color: #696969;}#sk-container-id-2 label.sk-toggleable__label-arrow:hover:before {color: black;}#sk-container-id-2 div.sk-estimator:hover label.sk-toggleable__label-arrow:before {color: black;}#sk-container-id-2 div.sk-toggleable__content {max-height: 0;max-width: 0;overflow: hidden;text-align: left;background-color: #f0f8ff;}#sk-container-id-2 div.sk-toggleable__content pre {margin: 0.2em;color: black;border-radius: 0.25em;background-color: #f0f8ff;}#sk-container-id-2 input.sk-toggleable__control:checked~div.sk-toggleable__content {max-height: 200px;max-width: 100%;overflow: auto;}#sk-container-id-2 input.sk-toggleable__control:checked~label.sk-toggleable__label-arrow:before {content: \"▾\";}#sk-container-id-2 div.sk-estimator input.sk-toggleable__control:checked~label.sk-toggleable__label {background-color: #d4ebff;}#sk-container-id-2 div.sk-label input.sk-toggleable__control:checked~label.sk-toggleable__label {background-color: #d4ebff;}#sk-container-id-2 input.sk-hidden--visually {border: 0;clip: rect(1px 1px 1px 1px);clip: rect(1px, 1px, 1px, 1px);height: 1px;margin: -1px;overflow: hidden;padding: 0;position: absolute;width: 1px;}#sk-container-id-2 div.sk-estimator {font-family: monospace;background-color: #f0f8ff;border: 1px dotted black;border-radius: 0.25em;box-sizing: border-box;margin-bottom: 0.5em;}#sk-container-id-2 div.sk-estimator:hover {background-color: #d4ebff;}#sk-container-id-2 div.sk-parallel-item::after {content: \"\";width: 100%;border-bottom: 1px solid gray;flex-grow: 1;}#sk-container-id-2 div.sk-label:hover label.sk-toggleable__label {background-color: #d4ebff;}#sk-container-id-2 div.sk-serial::before {content: \"\";position: absolute;border-left: 1px solid gray;box-sizing: border-box;top: 0;bottom: 0;left: 50%;z-index: 0;}#sk-container-id-2 div.sk-serial {display: flex;flex-direction: column;align-items: center;background-color: white;padding-right: 0.2em;padding-left: 0.2em;position: relative;}#sk-container-id-2 div.sk-item {position: relative;z-index: 1;}#sk-container-id-2 div.sk-parallel {display: flex;align-items: stretch;justify-content: center;background-color: white;position: relative;}#sk-container-id-2 div.sk-item::before, #sk-container-id-2 div.sk-parallel-item::before {content: \"\";position: absolute;border-left: 1px solid gray;box-sizing: border-box;top: 0;bottom: 0;left: 50%;z-index: -1;}#sk-container-id-2 div.sk-parallel-item {display: flex;flex-direction: column;z-index: 1;position: relative;background-color: white;}#sk-container-id-2 div.sk-parallel-item:first-child::after {align-self: flex-end;width: 50%;}#sk-container-id-2 div.sk-parallel-item:last-child::after {align-self: flex-start;width: 50%;}#sk-container-id-2 div.sk-parallel-item:only-child::after {width: 0;}#sk-container-id-2 div.sk-dashed-wrapped {border: 1px dashed gray;margin: 0 0.4em 0.5em 0.4em;box-sizing: border-box;padding-bottom: 0.4em;background-color: white;}#sk-container-id-2 div.sk-label label {font-family: monospace;font-weight: bold;display: inline-block;line-height: 1.2em;}#sk-container-id-2 div.sk-label-container {text-align: center;}#sk-container-id-2 div.sk-container {/* jupyter's `normalize.less` sets `[hidden] { display: none; }` but bootstrap.min.css set `[hidden] { display: none !important; }` so we also need the `!important` here to be able to override the default hidden behavior on the sphinx rendered scikit-learn.org. See: https://github.com/scikit-learn/scikit-learn/issues/21755 */display: inline-block !important;position: relative;}#sk-container-id-2 div.sk-text-repr-fallback {display: none;}</style><div id=\"sk-container-id-2\" class=\"sk-top-container\"><div class=\"sk-text-repr-fallback\"><pre>GridSearchCV(cv=5, estimator=RandomForestClassifier(), n_jobs=-1,\n",
       "             param_grid={&#x27;max_depth&#x27;: [None, 1, 5, 10],\n",
       "                         &#x27;max_features&#x27;: [None, 1, 4, 8, 10],\n",
       "                         &#x27;n_estimators&#x27;: [5, 20, 40]},\n",
       "             scoring=&#x27;accuracy&#x27;)</pre><b>In a Jupyter environment, please rerun this cell to show the HTML representation or trust the notebook. <br />On GitHub, the HTML representation is unable to render, please try loading this page with nbviewer.org.</b></div><div class=\"sk-container\" hidden><div class=\"sk-item sk-dashed-wrapped\"><div class=\"sk-label-container\"><div class=\"sk-label sk-toggleable\"><input class=\"sk-toggleable__control sk-hidden--visually\" id=\"sk-estimator-id-4\" type=\"checkbox\" ><label for=\"sk-estimator-id-4\" class=\"sk-toggleable__label sk-toggleable__label-arrow\">GridSearchCV</label><div class=\"sk-toggleable__content\"><pre>GridSearchCV(cv=5, estimator=RandomForestClassifier(), n_jobs=-1,\n",
       "             param_grid={&#x27;max_depth&#x27;: [None, 1, 5, 10],\n",
       "                         &#x27;max_features&#x27;: [None, 1, 4, 8, 10],\n",
       "                         &#x27;n_estimators&#x27;: [5, 20, 40]},\n",
       "             scoring=&#x27;accuracy&#x27;)</pre></div></div></div><div class=\"sk-parallel\"><div class=\"sk-parallel-item\"><div class=\"sk-item\"><div class=\"sk-label-container\"><div class=\"sk-label sk-toggleable\"><input class=\"sk-toggleable__control sk-hidden--visually\" id=\"sk-estimator-id-5\" type=\"checkbox\" ><label for=\"sk-estimator-id-5\" class=\"sk-toggleable__label sk-toggleable__label-arrow\">estimator: RandomForestClassifier</label><div class=\"sk-toggleable__content\"><pre>RandomForestClassifier()</pre></div></div></div><div class=\"sk-serial\"><div class=\"sk-item\"><div class=\"sk-estimator sk-toggleable\"><input class=\"sk-toggleable__control sk-hidden--visually\" id=\"sk-estimator-id-6\" type=\"checkbox\" ><label for=\"sk-estimator-id-6\" class=\"sk-toggleable__label sk-toggleable__label-arrow\">RandomForestClassifier</label><div class=\"sk-toggleable__content\"><pre>RandomForestClassifier()</pre></div></div></div></div></div></div></div></div></div></div>"
      ],
      "text/plain": [
       "GridSearchCV(cv=5, estimator=RandomForestClassifier(), n_jobs=-1,\n",
       "             param_grid={'max_depth': [None, 1, 5, 10],\n",
       "                         'max_features': [None, 1, 4, 8, 10],\n",
       "                         'n_estimators': [5, 20, 40]},\n",
       "             scoring='accuracy')"
      ]
     },
     "execution_count": 29,
     "metadata": {},
     "output_type": "execute_result"
    }
   ],
   "source": [
    "grid_search.fit(X_train, y_train)"
   ]
  },
  {
   "cell_type": "code",
   "execution_count": 30,
   "metadata": {},
   "outputs": [],
   "source": [
    "with open(\"grid_searches\\\\grid_search.pkl\", \"wb\") as f:#guardo despues de entrenar en formato pickle   \n",
    "    pickle.dump(grid_search, f)"
   ]
  },
  {
   "cell_type": "markdown",
   "metadata": {},
   "source": [
    "Lo mismo para el dataframe sin modificar asi tengo una base de comparación:"
   ]
  },
  {
   "cell_type": "code",
   "execution_count": 32,
   "metadata": {},
   "outputs": [
    {
     "data": {
      "text/html": [
       "<style>#sk-container-id-2 {color: black;background-color: white;}#sk-container-id-2 pre{padding: 0;}#sk-container-id-2 div.sk-toggleable {background-color: white;}#sk-container-id-2 label.sk-toggleable__label {cursor: pointer;display: block;width: 100%;margin-bottom: 0;padding: 0.3em;box-sizing: border-box;text-align: center;}#sk-container-id-2 label.sk-toggleable__label-arrow:before {content: \"▸\";float: left;margin-right: 0.25em;color: #696969;}#sk-container-id-2 label.sk-toggleable__label-arrow:hover:before {color: black;}#sk-container-id-2 div.sk-estimator:hover label.sk-toggleable__label-arrow:before {color: black;}#sk-container-id-2 div.sk-toggleable__content {max-height: 0;max-width: 0;overflow: hidden;text-align: left;background-color: #f0f8ff;}#sk-container-id-2 div.sk-toggleable__content pre {margin: 0.2em;color: black;border-radius: 0.25em;background-color: #f0f8ff;}#sk-container-id-2 input.sk-toggleable__control:checked~div.sk-toggleable__content {max-height: 200px;max-width: 100%;overflow: auto;}#sk-container-id-2 input.sk-toggleable__control:checked~label.sk-toggleable__label-arrow:before {content: \"▾\";}#sk-container-id-2 div.sk-estimator input.sk-toggleable__control:checked~label.sk-toggleable__label {background-color: #d4ebff;}#sk-container-id-2 div.sk-label input.sk-toggleable__control:checked~label.sk-toggleable__label {background-color: #d4ebff;}#sk-container-id-2 input.sk-hidden--visually {border: 0;clip: rect(1px 1px 1px 1px);clip: rect(1px, 1px, 1px, 1px);height: 1px;margin: -1px;overflow: hidden;padding: 0;position: absolute;width: 1px;}#sk-container-id-2 div.sk-estimator {font-family: monospace;background-color: #f0f8ff;border: 1px dotted black;border-radius: 0.25em;box-sizing: border-box;margin-bottom: 0.5em;}#sk-container-id-2 div.sk-estimator:hover {background-color: #d4ebff;}#sk-container-id-2 div.sk-parallel-item::after {content: \"\";width: 100%;border-bottom: 1px solid gray;flex-grow: 1;}#sk-container-id-2 div.sk-label:hover label.sk-toggleable__label {background-color: #d4ebff;}#sk-container-id-2 div.sk-serial::before {content: \"\";position: absolute;border-left: 1px solid gray;box-sizing: border-box;top: 0;bottom: 0;left: 50%;z-index: 0;}#sk-container-id-2 div.sk-serial {display: flex;flex-direction: column;align-items: center;background-color: white;padding-right: 0.2em;padding-left: 0.2em;position: relative;}#sk-container-id-2 div.sk-item {position: relative;z-index: 1;}#sk-container-id-2 div.sk-parallel {display: flex;align-items: stretch;justify-content: center;background-color: white;position: relative;}#sk-container-id-2 div.sk-item::before, #sk-container-id-2 div.sk-parallel-item::before {content: \"\";position: absolute;border-left: 1px solid gray;box-sizing: border-box;top: 0;bottom: 0;left: 50%;z-index: -1;}#sk-container-id-2 div.sk-parallel-item {display: flex;flex-direction: column;z-index: 1;position: relative;background-color: white;}#sk-container-id-2 div.sk-parallel-item:first-child::after {align-self: flex-end;width: 50%;}#sk-container-id-2 div.sk-parallel-item:last-child::after {align-self: flex-start;width: 50%;}#sk-container-id-2 div.sk-parallel-item:only-child::after {width: 0;}#sk-container-id-2 div.sk-dashed-wrapped {border: 1px dashed gray;margin: 0 0.4em 0.5em 0.4em;box-sizing: border-box;padding-bottom: 0.4em;background-color: white;}#sk-container-id-2 div.sk-label label {font-family: monospace;font-weight: bold;display: inline-block;line-height: 1.2em;}#sk-container-id-2 div.sk-label-container {text-align: center;}#sk-container-id-2 div.sk-container {/* jupyter's `normalize.less` sets `[hidden] { display: none; }` but bootstrap.min.css set `[hidden] { display: none !important; }` so we also need the `!important` here to be able to override the default hidden behavior on the sphinx rendered scikit-learn.org. See: https://github.com/scikit-learn/scikit-learn/issues/21755 */display: inline-block !important;position: relative;}#sk-container-id-2 div.sk-text-repr-fallback {display: none;}</style><div id=\"sk-container-id-2\" class=\"sk-top-container\"><div class=\"sk-text-repr-fallback\"><pre>GridSearchCV(cv=3, estimator=RandomForestClassifier(), n_jobs=-1,\n",
       "             param_grid={&#x27;max_depth&#x27;: [None, 1, 5, 10],\n",
       "                         &#x27;max_features&#x27;: [None, 1, 4, 8, 10],\n",
       "                         &#x27;n_estimators&#x27;: [5, 20, 40]},\n",
       "             scoring=&#x27;accuracy&#x27;)</pre><b>In a Jupyter environment, please rerun this cell to show the HTML representation or trust the notebook. <br />On GitHub, the HTML representation is unable to render, please try loading this page with nbviewer.org.</b></div><div class=\"sk-container\" hidden><div class=\"sk-item sk-dashed-wrapped\"><div class=\"sk-label-container\"><div class=\"sk-label sk-toggleable\"><input class=\"sk-toggleable__control sk-hidden--visually\" id=\"sk-estimator-id-4\" type=\"checkbox\" ><label for=\"sk-estimator-id-4\" class=\"sk-toggleable__label sk-toggleable__label-arrow\">GridSearchCV</label><div class=\"sk-toggleable__content\"><pre>GridSearchCV(cv=3, estimator=RandomForestClassifier(), n_jobs=-1,\n",
       "             param_grid={&#x27;max_depth&#x27;: [None, 1, 5, 10],\n",
       "                         &#x27;max_features&#x27;: [None, 1, 4, 8, 10],\n",
       "                         &#x27;n_estimators&#x27;: [5, 20, 40]},\n",
       "             scoring=&#x27;accuracy&#x27;)</pre></div></div></div><div class=\"sk-parallel\"><div class=\"sk-parallel-item\"><div class=\"sk-item\"><div class=\"sk-label-container\"><div class=\"sk-label sk-toggleable\"><input class=\"sk-toggleable__control sk-hidden--visually\" id=\"sk-estimator-id-5\" type=\"checkbox\" ><label for=\"sk-estimator-id-5\" class=\"sk-toggleable__label sk-toggleable__label-arrow\">estimator: RandomForestClassifier</label><div class=\"sk-toggleable__content\"><pre>RandomForestClassifier()</pre></div></div></div><div class=\"sk-serial\"><div class=\"sk-item\"><div class=\"sk-estimator sk-toggleable\"><input class=\"sk-toggleable__control sk-hidden--visually\" id=\"sk-estimator-id-6\" type=\"checkbox\" ><label for=\"sk-estimator-id-6\" class=\"sk-toggleable__label sk-toggleable__label-arrow\">RandomForestClassifier</label><div class=\"sk-toggleable__content\"><pre>RandomForestClassifier()</pre></div></div></div></div></div></div></div></div></div></div>"
      ],
      "text/plain": [
       "GridSearchCV(cv=3, estimator=RandomForestClassifier(), n_jobs=-1,\n",
       "             param_grid={'max_depth': [None, 1, 5, 10],\n",
       "                         'max_features': [None, 1, 4, 8, 10],\n",
       "                         'n_estimators': [5, 20, 40]},\n",
       "             scoring='accuracy')"
      ]
     },
     "execution_count": 32,
     "metadata": {},
     "output_type": "execute_result"
    }
   ],
   "source": [
    "grid_search0.fit(X0_train, y0_train)"
   ]
  },
  {
   "cell_type": "code",
   "execution_count": 33,
   "metadata": {},
   "outputs": [],
   "source": [
    "with open(\"grid_searches\\\\grid_search_base.pkl\", \"wb\") as f: #guardo despues de entrenar en formato pickle la base de mi prediccion\n",
    "    pickle.dump(grid_search0, f)"
   ]
  },
  {
   "cell_type": "markdown",
   "metadata": {},
   "source": [
    "### Predicciones"
   ]
  },
  {
   "cell_type": "code",
   "execution_count": 5,
   "metadata": {},
   "outputs": [],
   "source": [
    "grid_search= pickle.load(open(\"grid_searches\\\\grid_search.pkl\", \"rb\"))"
   ]
  },
  {
   "cell_type": "code",
   "execution_count": 39,
   "metadata": {},
   "outputs": [],
   "source": [
    "grid_search0= pickle.load(open(\"grid_searches\\\\grid_search_base.pkl\", \"rb\"))"
   ]
  },
  {
   "cell_type": "markdown",
   "metadata": {},
   "source": [
    "#### Baseline"
   ]
  },
  {
   "cell_type": "code",
   "execution_count": 41,
   "metadata": {},
   "outputs": [
    {
     "data": {
      "text/plain": [
       "{'max_depth': None, 'max_features': 8, 'n_estimators': 40}"
      ]
     },
     "execution_count": 41,
     "metadata": {},
     "output_type": "execute_result"
    }
   ],
   "source": [
    "grid_search0.best_params_"
   ]
  },
  {
   "cell_type": "code",
   "execution_count": 44,
   "metadata": {},
   "outputs": [
    {
     "name": "stdout",
     "output_type": "stream",
     "text": [
      "              precision    recall  f1-score   support\n",
      "\n",
      "           1       0.97      0.96      0.96     33935\n",
      "           2       0.97      0.97      0.97     45184\n",
      "           3       0.95      0.96      0.96      5872\n",
      "           4       0.92      0.86      0.89       444\n",
      "           5       0.92      0.85      0.88      1471\n",
      "           6       0.93      0.92      0.93      2833\n",
      "           7       0.97      0.95      0.96      3223\n",
      "\n",
      "    accuracy                           0.96     92962\n",
      "   macro avg       0.95      0.93      0.94     92962\n",
      "weighted avg       0.96      0.96      0.96     92962\n",
      "\n"
     ]
    }
   ],
   "source": [
    "y0_pred= grid_search0.predict(X0_test)\n",
    "print(classification_report(y0_test, y0_pred))"
   ]
  },
  {
   "cell_type": "markdown",
   "metadata": {},
   "source": [
    "#### Post data engineering"
   ]
  },
  {
   "cell_type": "code",
   "execution_count": 46,
   "metadata": {},
   "outputs": [
    {
     "data": {
      "text/plain": [
       "{'max_depth': None, 'max_features': 8, 'n_estimators': 40}"
      ]
     },
     "execution_count": 46,
     "metadata": {},
     "output_type": "execute_result"
    }
   ],
   "source": [
    "#get the best parameters\n",
    "grid_search.best_params_"
   ]
  },
  {
   "cell_type": "markdown",
   "metadata": {},
   "source": [
    "Evaluo el modelo con los datos de test"
   ]
  },
  {
   "cell_type": "code",
   "execution_count": 47,
   "metadata": {},
   "outputs": [
    {
     "name": "stdout",
     "output_type": "stream",
     "text": [
      "              precision    recall  f1-score   support\n",
      "\n",
      "           1       0.97      0.96      0.97     33935\n",
      "           2       0.97      0.97      0.97     45184\n",
      "           3       0.95      0.96      0.96      5872\n",
      "           4       0.92      0.87      0.89       444\n",
      "           5       0.92      0.86      0.89      1471\n",
      "           6       0.94      0.92      0.93      2833\n",
      "           7       0.97      0.95      0.96      3223\n",
      "\n",
      "    accuracy                           0.96     92962\n",
      "   macro avg       0.95      0.93      0.94     92962\n",
      "weighted avg       0.96      0.96      0.96     92962\n",
      "\n"
     ]
    }
   ],
   "source": [
    "y_pred= grid_search.predict(X_test)\n",
    "print(classification_report(y_test, y_pred))"
   ]
  },
  {
   "cell_type": "markdown",
   "metadata": {},
   "source": [
    "### Feature importance y segunda iteración"
   ]
  },
  {
   "cell_type": "markdown",
   "metadata": {},
   "source": [
    "Chequeo que en data engineering no haya eliminado features importantes"
   ]
  },
  {
   "cell_type": "code",
   "execution_count": 48,
   "metadata": {},
   "outputs": [
    {
     "data": {
      "text/html": [
       "<div>\n",
       "<style scoped>\n",
       "    .dataframe tbody tr th:only-of-type {\n",
       "        vertical-align: middle;\n",
       "    }\n",
       "\n",
       "    .dataframe tbody tr th {\n",
       "        vertical-align: top;\n",
       "    }\n",
       "\n",
       "    .dataframe thead th {\n",
       "        text-align: right;\n",
       "    }\n",
       "</style>\n",
       "<table border=\"1\" class=\"dataframe\">\n",
       "  <thead>\n",
       "    <tr style=\"text-align: right;\">\n",
       "      <th></th>\n",
       "      <th>attributes</th>\n",
       "      <th>importances</th>\n",
       "    </tr>\n",
       "  </thead>\n",
       "  <tbody>\n",
       "    <tr>\n",
       "      <th>0</th>\n",
       "      <td>altura</td>\n",
       "      <td>0.293274</td>\n",
       "    </tr>\n",
       "    <tr>\n",
       "      <th>5</th>\n",
       "      <td>distancia_caminos</td>\n",
       "      <td>0.139368</td>\n",
       "    </tr>\n",
       "    <tr>\n",
       "      <th>9</th>\n",
       "      <td>distancia_fuego</td>\n",
       "      <td>0.137108</td>\n",
       "    </tr>\n",
       "    <tr>\n",
       "      <th>11</th>\n",
       "      <td>clase_suelo</td>\n",
       "      <td>0.124714</td>\n",
       "    </tr>\n",
       "    <tr>\n",
       "      <th>3</th>\n",
       "      <td>distancia_agua</td>\n",
       "      <td>0.059843</td>\n",
       "    </tr>\n",
       "    <tr>\n",
       "      <th>4</th>\n",
       "      <td>altura_agua</td>\n",
       "      <td>0.049770</td>\n",
       "    </tr>\n",
       "    <tr>\n",
       "      <th>10</th>\n",
       "      <td>clase_area_silvestre</td>\n",
       "      <td>0.041386</td>\n",
       "    </tr>\n",
       "    <tr>\n",
       "      <th>7</th>\n",
       "      <td>sombra_mediodia</td>\n",
       "      <td>0.036723</td>\n",
       "    </tr>\n",
       "    <tr>\n",
       "      <th>6</th>\n",
       "      <td>sombra_maniana</td>\n",
       "      <td>0.034834</td>\n",
       "    </tr>\n",
       "    <tr>\n",
       "      <th>1</th>\n",
       "      <td>exposicion</td>\n",
       "      <td>0.033366</td>\n",
       "    </tr>\n",
       "    <tr>\n",
       "      <th>8</th>\n",
       "      <td>sombra_tarde</td>\n",
       "      <td>0.028503</td>\n",
       "    </tr>\n",
       "    <tr>\n",
       "      <th>2</th>\n",
       "      <td>inclinacion_suelo</td>\n",
       "      <td>0.021110</td>\n",
       "    </tr>\n",
       "  </tbody>\n",
       "</table>\n",
       "</div>"
      ],
      "text/plain": [
       "              attributes  importances\n",
       "0                 altura     0.293274\n",
       "5      distancia_caminos     0.139368\n",
       "9        distancia_fuego     0.137108\n",
       "11           clase_suelo     0.124714\n",
       "3         distancia_agua     0.059843\n",
       "4            altura_agua     0.049770\n",
       "10  clase_area_silvestre     0.041386\n",
       "7        sombra_mediodia     0.036723\n",
       "6         sombra_maniana     0.034834\n",
       "1             exposicion     0.033366\n",
       "8           sombra_tarde     0.028503\n",
       "2      inclinacion_suelo     0.021110"
      ]
     },
     "execution_count": 48,
     "metadata": {},
     "output_type": "execute_result"
    }
   ],
   "source": [
    "attributes0= list(X0_train.columns)\n",
    "importances0= grid_search0.best_estimator_.feature_importances_\n",
    "#print importances and attributes as pandas \n",
    "pd.DataFrame({\"attributes\": attributes0, \"importances\": importances0}).sort_values(\"importances\", ascending=False)"
   ]
  },
  {
   "cell_type": "code",
   "execution_count": 49,
   "metadata": {},
   "outputs": [
    {
     "data": {
      "text/html": [
       "<div>\n",
       "<style scoped>\n",
       "    .dataframe tbody tr th:only-of-type {\n",
       "        vertical-align: middle;\n",
       "    }\n",
       "\n",
       "    .dataframe tbody tr th {\n",
       "        vertical-align: top;\n",
       "    }\n",
       "\n",
       "    .dataframe thead th {\n",
       "        text-align: right;\n",
       "    }\n",
       "</style>\n",
       "<table border=\"1\" class=\"dataframe\">\n",
       "  <thead>\n",
       "    <tr style=\"text-align: right;\">\n",
       "      <th></th>\n",
       "      <th>attributes</th>\n",
       "      <th>importances</th>\n",
       "    </tr>\n",
       "  </thead>\n",
       "  <tbody>\n",
       "    <tr>\n",
       "      <th>0</th>\n",
       "      <td>altura</td>\n",
       "      <td>0.301675</td>\n",
       "    </tr>\n",
       "    <tr>\n",
       "      <th>6</th>\n",
       "      <td>distancia_fuego</td>\n",
       "      <td>0.147281</td>\n",
       "    </tr>\n",
       "    <tr>\n",
       "      <th>5</th>\n",
       "      <td>distancia_caminos</td>\n",
       "      <td>0.145360</td>\n",
       "    </tr>\n",
       "    <tr>\n",
       "      <th>8</th>\n",
       "      <td>clase_suelo</td>\n",
       "      <td>0.130176</td>\n",
       "    </tr>\n",
       "    <tr>\n",
       "      <th>3</th>\n",
       "      <td>distancia_agua</td>\n",
       "      <td>0.062002</td>\n",
       "    </tr>\n",
       "    <tr>\n",
       "      <th>1</th>\n",
       "      <td>exposicion</td>\n",
       "      <td>0.057858</td>\n",
       "    </tr>\n",
       "    <tr>\n",
       "      <th>4</th>\n",
       "      <td>altura_agua</td>\n",
       "      <td>0.052207</td>\n",
       "    </tr>\n",
       "    <tr>\n",
       "      <th>9</th>\n",
       "      <td>sombra_total</td>\n",
       "      <td>0.042663</td>\n",
       "    </tr>\n",
       "    <tr>\n",
       "      <th>7</th>\n",
       "      <td>clase_area_silvestre</td>\n",
       "      <td>0.033170</td>\n",
       "    </tr>\n",
       "    <tr>\n",
       "      <th>2</th>\n",
       "      <td>inclinacion_suelo</td>\n",
       "      <td>0.027607</td>\n",
       "    </tr>\n",
       "  </tbody>\n",
       "</table>\n",
       "</div>"
      ],
      "text/plain": [
       "             attributes  importances\n",
       "0                altura     0.301675\n",
       "6       distancia_fuego     0.147281\n",
       "5     distancia_caminos     0.145360\n",
       "8           clase_suelo     0.130176\n",
       "3        distancia_agua     0.062002\n",
       "1            exposicion     0.057858\n",
       "4           altura_agua     0.052207\n",
       "9          sombra_total     0.042663\n",
       "7  clase_area_silvestre     0.033170\n",
       "2     inclinacion_suelo     0.027607"
      ]
     },
     "execution_count": 49,
     "metadata": {},
     "output_type": "execute_result"
    }
   ],
   "source": [
    "attributes= list(X_train.columns)\n",
    "importances= grid_search.best_estimator_.feature_importances_\n",
    "#print importances and attributes as pandas \n",
    "pd.DataFrame({\"attributes\": attributes, \"importances\": importances}).sort_values(\"importances\", ascending=False)"
   ]
  },
  {
   "cell_type": "markdown",
   "metadata": {},
   "source": [
    "Observando las importancias veo que la feature nueva es mas alta que la de las sombras maniana y tarde. Tambien veo unas features que no me parecen importantes y me gustaría ver como cambian los scores al eliminarlas."
   ]
  },
  {
   "cell_type": "code",
   "execution_count": 58,
   "metadata": {},
   "outputs": [
    {
     "name": "stdout",
     "output_type": "stream",
     "text": [
      "inclinacion_suelo\n",
      "clase_area_silvestre\n",
      "altura_agua\n",
      "exposicion\n"
     ]
    }
   ],
   "source": [
    "atributos_eliminar= [\"inclinacion_suelo\", \"clase_area_silvestre\",\"altura_agua\",\"exposicion\"]\n",
    "sweet_spot= {'max_depth': [None], 'max_features': [8], 'n_estimators': [40]}\n",
    "atributos= list(X_train.columns)\n",
    "for i in range(len(atributos_eliminar)):\n",
    "    atributos.remove(atributos_eliminar[i])\n",
    "    X_train2= X_train[atributos]\n",
    "    X_test2= X_test[atributos]\n",
    "    model= RandomForestClassifier()\n",
    "    sweet_spot= {'max_depth': [None], 'max_features': [8], 'n_estimators': [40]}\n",
    "    grid_search2= GridSearchCV(model, sweet_spot, cv=3,n_jobs=-1, scoring=\"accuracy\")\n",
    "    grid_search2.fit(X_train2, y_train)\n",
    "    y_pred2= grid_search2.predict(X_test2)\n",
    "    with open(\"grid_search_\"+atributos_eliminar[i]+\".pkl\", \"wb\") as f: #guardo despues de entrenar en formato pickle la base de mi prediccion\n",
    "        pickle.dump(grid_search2, f)\n",
    "    print(atributos_eliminar[i])\n",
    "   "
   ]
  },
  {
   "cell_type": "markdown",
   "metadata": {},
   "source": [
    "### Comparando modelos"
   ]
  },
  {
   "cell_type": "code",
   "execution_count": 61,
   "metadata": {},
   "outputs": [],
   "source": [
    "\n",
    "\n",
    "\n",
    "with open(\"data\\\\X_test.pickle\", \"rb\") as f:\n",
    "    X_test= pickle.load(f)\n",
    "with open(\"data\\\\y_test.pickle\", \"rb\") as f:\n",
    "    y_test= pickle.load(f)\n",
    "with open(\"data\\\\X0_test.pickle\", \"rb\") as f:\n",
    "    X0_test= pickle.load(f)\n",
    "with open(\"data\\\\y0_test.pickle\", \"rb\") as f:\n",
    "    y0_test= pickle.load(f)"
   ]
  },
  {
   "cell_type": "markdown",
   "metadata": {},
   "source": [
    "A cada archivo guardado le saque las features que no me parecian importantes y guardo los scores para compararlos con los anteriores."
   ]
  },
  {
   "cell_type": "code",
   "execution_count": 71,
   "metadata": {},
   "outputs": [],
   "source": [
    "atributos_eliminar= [\"inclinacion_suelo\", \"clase_area_silvestre\",\"altura_agua\",\"exposicion\"]\n",
    "sweet_spot= {'max_depth': [None], 'max_features': [8], 'n_estimators': [40]}\n",
    "atributos= list(X_train.columns)\n",
    "\n",
    "recall=[]\n",
    "precision=[]\n",
    "names=[]\n",
    "grid_search= pickle.load(open(\"grid_searches\\\\grid_search.pkl\", \"rb\"))\n",
    "y_pred= grid_search.predict(X_test)\n",
    "recall.append(recall_score(y_test, y_pred, average=\"macro\"))\n",
    "precision.append(precision_score(y_test, y_pred,average=\"macro\"))\n",
    "names.append(\"feature engineering\")\n",
    "#continue with the rest of the models\n",
    "atributos_eliminados= \"\"\n",
    "for i in range(len(atributos_eliminar)):\n",
    "    grid_search= pickle.load(open(\"grid_searches\\\\grid_search_\"+atributos_eliminar[i]+\".pkl\", \"rb\"))\n",
    "    atributos.remove(atributos_eliminar[i])\n",
    "    atributos_eliminados= atributos_eliminados+atributos_eliminar[i]+\", \"\n",
    "    X_test2= X_test[atributos]\n",
    "    y_pred= grid_search.predict(X_test2)\n",
    "    recall.append(recall_score(y_test, y_pred, average=\"macro\"))\n",
    "    precision.append(precision_score(y_test, y_pred, average=\"macro\"))\n",
    "    names.append(\"sin : \"+atributos_eliminados)\n",
    "grid_search = pickle.load(open(\"grid_searches\\\\grid_search_base.pkl\", \"rb\"))\n",
    "y_pred= grid_search.predict(X0_test)\n",
    "recall.append(recall_score(y0_test, y_pred, average=\"macro\"))\n",
    "precision.append(precision_score(y0_test, y_pred, average=\"macro\"))\n",
    "names.append(\"sin modificar nada\")"
   ]
  },
  {
   "cell_type": "markdown",
   "metadata": {},
   "source": [
    "Ahora con todos los scores me armo este grafico que me permite comparar los scores de los modelos con y sin data engineering y con y sin features eliminadas. Pasando con el mouse sobre los puntos te dice que se hizo con cada punto."
   ]
  },
  {
   "cell_type": "code",
   "execution_count": 77,
   "metadata": {},
   "outputs": [],
   "source": [
    "x = recall\n",
    "y = precision\n",
    "\n",
    "%matplotlib qt\n",
    "\n",
    "\n",
    "fig,ax = plt.subplots()\n",
    "sc = plt.scatter(x,y,c=\"r\", s=100)\n",
    "\n",
    "annot = ax.annotate(\"\", xy=(0,0), xytext=(-100,20),textcoords=\"offset points\",\n",
    "                    bbox=dict(boxstyle=\"round\", fc=\"w\"),\n",
    "                    arrowprops=dict(arrowstyle=\"->\"))\n",
    "annot.set_visible(False)\n",
    "\n",
    "def update_annot(ind):\n",
    "\n",
    "    pos = sc.get_offsets()[ind[\"ind\"][0]]\n",
    "    annot.xy = pos\n",
    "    text = \"{}\".format( [names[n] for n in ind[\"ind\"]])\n",
    "    annot.set_text(text)\n",
    "    annot.get_bbox_patch().set_facecolor(\"b\")\n",
    "    annot.get_bbox_patch().set_alpha(0.4)\n",
    "\n",
    "\n",
    "def hover(event):\n",
    "    vis = annot.get_visible()\n",
    "    if event.inaxes == ax:\n",
    "        cont, ind = sc.contains(event)\n",
    "        if cont:\n",
    "            update_annot(ind)\n",
    "            annot.set_visible(True)\n",
    "            fig.canvas.draw_idle()\n",
    "        else:\n",
    "            if vis:\n",
    "                annot.set_visible(False)\n",
    "                fig.canvas.draw_idle()\n",
    "\n",
    "fig.canvas.mpl_connect(\"motion_notify_event\", hover)\n",
    "plt.xlabel(\"recall\")\n",
    "plt.ylabel(\"precision\")\n",
    "plt.grid()\n",
    "plt.show()"
   ]
  },
  {
   "cell_type": "markdown",
   "metadata": {},
   "source": [
    "### Modelo Final "
   ]
  },
  {
   "cell_type": "markdown",
   "metadata": {},
   "source": [
    "Observo que el modelo con data engineering y sin features eliminadas es el que mejor score tiene. Por lo tanto es mi modelo final. X_train.pkl , Y_train.pkl , X_test.pkl y Y_test.pkl son los archivos que usé para entrenar el modelo final. El modelo entrenado se llama \"grid_search.pkl\". "
   ]
  },
  {
   "cell_type": "markdown",
   "metadata": {},
   "source": [
    "## XGBOOST"
   ]
  },
  {
   "cell_type": "code",
   "execution_count": null,
   "metadata": {},
   "outputs": [],
   "source": []
  }
 ],
 "metadata": {
  "kernelspec": {
   "display_name": "Python 3.8.13 ('ML_env_Madile')",
   "language": "python",
   "name": "python3"
  },
  "language_info": {
   "codemirror_mode": {
    "name": "ipython",
    "version": 3
   },
   "file_extension": ".py",
   "mimetype": "text/x-python",
   "name": "python",
   "nbconvert_exporter": "python",
   "pygments_lexer": "ipython3",
   "version": "3.8.13"
  },
  "orig_nbformat": 4,
  "vscode": {
   "interpreter": {
    "hash": "9331bb5ed98ecbbf707e0b66bb85f13798e13b41c13767cf620407323cbe1ea0"
   }
  }
 },
 "nbformat": 4,
 "nbformat_minor": 2
}
